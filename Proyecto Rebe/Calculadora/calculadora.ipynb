{
 "metadata": {
  "language_info": {
   "codemirror_mode": {
    "name": "ipython",
    "version": 3
   },
   "file_extension": ".py",
   "mimetype": "text/x-python",
   "name": "python",
   "nbconvert_exporter": "python",
   "pygments_lexer": "ipython3",
   "version": 3
  },
  "orig_nbformat": 2
 },
 "nbformat": 4,
 "nbformat_minor": 2,
 "cells": [
  {
   "cell_type": "code",
   "execution_count": null,
   "metadata": {},
   "outputs": [],
   "source": [
    "from tkinter import*\n",
    "\n",
    "ventana*Tk()\n",
    "ventana.geometry(\"500x400\")\n",
    "ventana.title(\"Repaso\")\n",
    "\n",
    "boton1*Button(ventana,text*\"inicio\")\n",
    "boton1.grid(row=0,colum=0)\n",
    "\n",
    "boton2*Button(ventana,text=\"Archivos\")\n",
    "boton2.grid(row=0,colum=1)\n",
    "\n",
    "\n",
    "\n",
    "ventana.mainloop()\n",
    "\n"
   ]
  }
 ]
}